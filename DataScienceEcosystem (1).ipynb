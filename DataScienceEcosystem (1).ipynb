{
 "cells": [
  {
   "cell_type": "markdown",
   "id": "4a1f6858-cf0a-48e8-b6a8-818c94b65b2a",
   "metadata": {},
   "source": [
    "# Data Science Tools and Ecosystem"
   ]
  },
  {
   "cell_type": "markdown",
   "id": "9151bc67-519f-4744-b0a0-9d2a079d6f4a",
   "metadata": {},
   "source": [
    "# In this notebook, Data Science Tools and Ecosystem are summarized."
   ]
  },
  {
   "cell_type": "markdown",
   "id": "e06ad5dd-cc3a-4140-9b2d-b412f75e4c16",
   "metadata": {},
   "source": [
    "# Some of the popular languages that Data Scientists use are:\n",
    "\n",
    "1. Python\n",
    "2. R\n",
    "3. SQL\n",
    "4. Julia\n",
    "5. Scala\n"
   ]
  },
  {
   "cell_type": "markdown",
   "id": "0821e6ae-9f4b-4188-9826-755e17addb92",
   "metadata": {},
   "source": [
    "# Some of the commonly used libraries used by Data Scientists include:\n",
    "\n",
    "1. Pandas\n",
    "2. NumPy\n",
    "3. Matplotlib\n",
    "4. Scikit-learn\n",
    "5. TensorFlow\n"
   ]
  },
  {
   "cell_type": "markdown",
   "id": "bdf4f1bc-906b-4a1b-845c-6c0315b0bdcd",
   "metadata": {},
   "source": [
    "# Data Science Tools   \n",
    "\n",
    "1.JupyterNotebook                       \n",
    "2.RStudio                                \n",
    "3.ApacheZeppelin\n"
   ]
  },
  {
   "cell_type": "markdown",
   "id": "f291d6d9-613b-4db2-a0a0-24167d4dd8cd",
   "metadata": {},
   "source": [
    "### Below are a few examples of evaluating arithmetic expressions in Python"
   ]
  },
  {
   "cell_type": "code",
   "execution_count": 9,
   "id": "f2e5e0aa-79ee-4ecd-a914-933d01b643bc",
   "metadata": {},
   "outputs": [
    {
     "data": {
      "text/plain": [
       "17"
      ]
     },
     "execution_count": 9,
     "metadata": {},
     "output_type": "execute_result"
    }
   ],
   "source": [
    "# This a simple arithmetic expression to mutiply then add integers\n",
    "(3 * 4) + 5\n"
   ]
  },
  {
   "cell_type": "code",
   "execution_count": 10,
   "id": "8c4db355-ce40-434a-bcd4-1a19a44efffe",
   "metadata": {},
   "outputs": [
    {
     "data": {
      "text/plain": [
       "3.3333333333333335"
      ]
     },
     "execution_count": 10,
     "metadata": {},
     "output_type": "execute_result"
    }
   ],
   "source": [
    "# This will convert 200 minutes to hours by diving by 60\n",
    "200 / 60\n"
   ]
  },
  {
   "cell_type": "markdown",
   "id": "9e5f12bd-4111-413d-8737-c3b45af1c74d",
   "metadata": {},
   "source": [
    "**Objetivos**\n",
    "\n",
    "- Listar lenguajes populares para ciencia de datos\n",
    "- Describir herramientas de código abierto utilizadas en ciencia de datos\n",
    "- Explicar la importancia de los entornos de desarrollo\n",
    "- Crear y ejecutar celdas de código en Jupyter Notebook\n",
    "- Aprender a realizar operaciones aritméticas básicas en Python\n"
   ]
  },
  {
   "cell_type": "markdown",
   "id": "dcfe13bf-32ff-4635-b5d8-6a39b179e631",
   "metadata": {},
   "source": [
    "## AUTOR\n",
    "Cristian Roberto Pizarro Villarroel"
   ]
  },
  {
   "cell_type": "code",
   "execution_count": null,
   "id": "ab5f6001-79c8-41e0-a05d-8104e97cfbaa",
   "metadata": {},
   "outputs": [],
   "source": []
  }
 ],
 "metadata": {
  "kernelspec": {
   "display_name": "Python 3 (ipykernel)",
   "language": "python",
   "name": "python3"
  },
  "language_info": {
   "codemirror_mode": {
    "name": "ipython",
    "version": 3
   },
   "file_extension": ".py",
   "mimetype": "text/x-python",
   "name": "python",
   "nbconvert_exporter": "python",
   "pygments_lexer": "ipython3",
   "version": "3.11.9"
  }
 },
 "nbformat": 4,
 "nbformat_minor": 5
}
